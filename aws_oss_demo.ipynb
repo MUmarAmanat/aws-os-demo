{
 "cells": [
  {
   "cell_type": "code",
   "execution_count": null,
   "id": "8381dc30",
   "metadata": {},
   "outputs": [],
   "source": [
    "import boto3\n",
    "from requests_aws4auth import AWS4Auth\n",
    "from opensearchpy import RequestsHttpConnection\n",
    "from langchain_community.document_loaders import PyPDFLoader\n",
    "from langchain_community.vectorstores import OpenSearchVectorSearch\n",
    "from langchain_community.embeddings import HuggingFaceEmbeddings\n",
    "from langchain_text_splitters import CharacterTextSplitter\n",
    "\n"
   ]
  },
  {
   "cell_type": "code",
   "execution_count": null,
   "id": "48d205f1",
   "metadata": {},
   "outputs": [],
   "source": [
    "\n",
    "loader = PyPDFLoader(\"./Peer Review Framework for Predictive Analytics.pdf\")\n",
    "documents = loader.load()\n",
    "text_splitter = CharacterTextSplitter(chunk_size=1000, chunk_overlap=0)\n",
    "docs = text_splitter.split_documents(documents)\n"
   ]
  },
  {
   "cell_type": "code",
   "execution_count": null,
   "id": "03aa26a7",
   "metadata": {},
   "outputs": [],
   "source": [
    "# Initialize HuggingFace embeddings\n",
    "hf_embeddings = HuggingFaceEmbeddings(model_name=\"sentence-transformers/all-MiniLM-L6-v2\")"
   ]
  },
  {
   "cell_type": "code",
   "execution_count": null,
   "id": "4dc68f3b",
   "metadata": {},
   "outputs": [],
   "source": [
    "service = \"aoss\"  # must set the service as 'aoss'\n",
    "region = \"us-east-1\"\n",
    "credentials = boto3.Session(\n",
    "    aws_access_key_id=\"<aws_access_key>\",\n",
    "    aws_secret_access_key=\"<aws_secret_access_key>\"\n",
    ").get_credentials()\n",
    "\n",
    "awsauth = AWS4Auth(\n",
    "    credentials.access_key,\n",
    "    credentials.secret_key,\n",
    "    region,\n",
    "    service,\n",
    "    session_token=credentials.token\n",
    ")"
   ]
  },
  {
   "cell_type": "code",
   "execution_count": null,
   "id": "e0a9437e",
   "metadata": {},
   "outputs": [],
   "source": [
    "docsearch = OpenSearchVectorSearch.from_documents(\n",
    "    docs,\n",
    "    hf_embeddings,\n",
    "    opensearch_url=\"<open-search-serverless-collection-url>\",\n",
    "    http_auth=awsauth,\n",
    "    timeout=300,\n",
    "    use_ssl=True,\n",
    "    verify_certs=True,\n",
    "    connection_class=RequestsHttpConnection,\n",
    "    index_name=\"aws-os-demo-collection\",\n",
    "    engine=\"faiss\",\n",
    ")\n",
    "\n"
   ]
  },
  {
   "cell_type": "code",
   "execution_count": null,
   "id": "4fbbbbf6",
   "metadata": {},
   "outputs": [],
   "source": [
    "\n",
    "docs = docsearch.similarity_search(\n",
    "    \"What are Common sources of observational rainfall data\",\n",
    "    k=3,\n",
    ")"
   ]
  },
  {
   "cell_type": "code",
   "execution_count": null,
   "id": "52460f8b",
   "metadata": {},
   "outputs": [],
   "source": [
    "print(docs)"
   ]
  }
 ],
 "metadata": {
  "kernelspec": {
   "display_name": "venv3_11",
   "language": "python",
   "name": "python3"
  },
  "language_info": {
   "codemirror_mode": {
    "name": "ipython",
    "version": 3
   },
   "file_extension": ".py",
   "mimetype": "text/x-python",
   "name": "python",
   "nbconvert_exporter": "python",
   "pygments_lexer": "ipython3",
   "version": "3.11.0"
  }
 },
 "nbformat": 4,
 "nbformat_minor": 5
}
